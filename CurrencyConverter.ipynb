{
 "cells": [
  {
   "cell_type": "markdown",
   "metadata": {},
   "source": [
    "# INR TO EQUILVAENT FOREIGN CURRENCY CONVERTER"
   ]
  },
  {
   "cell_type": "markdown",
   "metadata": {},
   "source": [
    "# Dictionary of foreign currency rates"
   ]
  },
  {
   "cell_type": "code",
   "execution_count": 1,
   "metadata": {},
   "outputs": [],
   "source": [
    "RATES = { \n",
    "\"AUD\": 55.44,\n",
    "\"USD\": 73.6,\n",
    "\"EUR\": 89.34,\n",
    "\"CAD\": 57.74,\n",
    "\"SGD\": 55.17,\n",
    "\"PKR\": 0.5}"
   ]
  },
  {
   "cell_type": "markdown",
   "metadata": {},
   "source": [
    "# Writing a function to calculate foreign currency value from INR"
   ]
  },
  {
   "cell_type": "code",
   "execution_count": 2,
   "metadata": {},
   "outputs": [],
   "source": [
    "def CurrencyConversion():\n",
    "    amt = rp.get()\n",
    "    value_converted = var.get()\n",
    "    DICT = RATES.get(value_converted, None)\n",
    "    final = float(DICT)*float(amt)\n",
    "    result.delete(1.0, END)\n",
    "    result.insert(INSERT, \"Price in \", INSERT, value_converted, INSERT, \" = \",INSERT, final)   "
   ]
  },
  {
   "cell_type": "markdown",
   "metadata": {},
   "source": [
    "# Creating a GUI Application"
   ]
  },
  {
   "cell_type": "code",
   "execution_count": 3,
   "metadata": {},
   "outputs": [],
   "source": [
    "from tkinter import *"
   ]
  },
  {
   "cell_type": "code",
   "execution_count": 6,
   "metadata": {},
   "outputs": [],
   "source": [
    "CurrencyConverter= Tk()\n",
    "CurrencyConverter.geometry(\"600x400\")\n",
    "CurrencyConverter.title(\"INR Currency Converter\")\n",
    "\n",
    "appName = Label(CurrencyConverter, text=\"INR Currency Conversion Calculator\", font=('arial',25,\"bold\"), fg='black')\n",
    "appName.grid(row=0,column=0, ipadx=5)\n",
    "\n",
    "\n",
    "result = Text(CurrencyConverter, height=5, width=50, font=('arial',10), bd=5)\n",
    "result.grid(row=1, columnspan=10, padx=3)\n",
    "\n",
    "inr= Label(CurrencyConverter, text=\"Enter INR Amount: \",  font=('arial',10, \"bold\"), fg='red')\n",
    "inr.grid(row=2, column=0)\n",
    "\n",
    "rp= Entry(CurrencyConverter, font=('arial',15, \"bold\"), fg='black')\n",
    "rp.grid(row=3, column=0)\n",
    "\n",
    "choice= Label(CurrencyConverter, text=\"Choose the Country: \",  font=('arial',10, \"bold\"), fg='blue')\n",
    "choice.grid(row=4, column=0)\n",
    "\n",
    "var= StringVar(CurrencyConverter)\n",
    "var.set(None)\n",
    "\n",
    "option= OptionMenu(CurrencyConverter, var, *RATES)\n",
    "option.grid(row=5, column=0, sticky='ew')\n",
    "\n",
    "button= Button(CurrencyConverter, text=\"Convert\", fg='green', font=('arial',20), bg='pink' ,command=CurrencyConversion)\n",
    "button.grid(row=6, column=0, columnspan=5)\n",
    "\n",
    "mainloop()"
   ]
  }
 ],
 "metadata": {
  "kernelspec": {
   "display_name": "Python 3",
   "language": "python",
   "name": "python3"
  },
  "language_info": {
   "codemirror_mode": {
    "name": "ipython",
    "version": 3
   },
   "file_extension": ".py",
   "mimetype": "text/x-python",
   "name": "python",
   "nbconvert_exporter": "python",
   "pygments_lexer": "ipython3",
   "version": "3.7.1"
  }
 },
 "nbformat": 4,
 "nbformat_minor": 2
}
